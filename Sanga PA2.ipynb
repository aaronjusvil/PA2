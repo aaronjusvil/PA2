{
 "cells": [
  {
   "cell_type": "code",
   "execution_count": 38,
   "id": "658033f6-38f4-4301-9e0a-ea0b63312a1d",
   "metadata": {},
   "outputs": [],
   "source": [
    "import numpy as np"
   ]
  },
  {
   "cell_type": "markdown",
   "id": "099e157d-c6b6-41e5-aabf-d9c60c4330c0",
   "metadata": {},
   "source": [
    "Problem 1"
   ]
  },
  {
   "cell_type": "code",
   "execution_count": 41,
   "id": "8e510bd2-767e-42e8-8170-5a0fa37a903f",
   "metadata": {
    "scrolled": true
   },
   "outputs": [
    {
     "data": {
      "text/plain": [
       "'Random Array:'"
      ]
     },
     "metadata": {},
     "output_type": "display_data"
    },
    {
     "data": {
      "text/plain": [
       "array([[0.41900645, 0.28446039, 0.13441434, 0.23481237, 0.79814642],\n",
       "       [0.13724286, 0.25604867, 0.06853768, 0.94714114, 0.6256771 ],\n",
       "       [0.29346968, 0.90295031, 0.24385552, 0.35716048, 0.23939227],\n",
       "       [0.93025051, 0.71895823, 0.94355482, 0.39612829, 0.09441483],\n",
       "       [0.61187389, 0.11851098, 0.76529925, 0.38322747, 0.17788595]])"
      ]
     },
     "metadata": {},
     "output_type": "display_data"
    },
    {
     "name": "stdout",
     "output_type": "stream",
     "text": [
      "\n",
      "\n"
     ]
    },
    {
     "data": {
      "text/plain": [
       "'Normalized Array:'"
      ]
     },
     "metadata": {},
     "output_type": "display_data"
    },
    {
     "data": {
      "text/plain": [
       "array([[-0.08247783, -0.53932889, -1.04881012, -0.70790868,  1.20489158],\n",
       "       [-1.03920588, -0.63580086, -1.27249426,  1.71080303,  0.61927218],\n",
       "       [-0.50873783,  1.56075313, -0.67720267, -0.29247579, -0.69235765],\n",
       "       [ 1.65345092,  0.93600815,  1.69862569, -0.16016063, -1.18462842],\n",
       "       [ 0.57240337, -1.10280994,  1.09335906, -0.20396533, -0.9012023 ]])"
      ]
     },
     "metadata": {},
     "output_type": "display_data"
    }
   ],
   "source": [
    "X = np.random.random((5,5)) #Generating an np array with randomized elements\n",
    "\n",
    "Normalized_X = (X - np.mean(X))/np.std(X) #using the normalization formula by calling on functions\n",
    "\n",
    "display('Random Array:', X) #prints Random Array\n",
    "\n",
    "print('\\n') #creates space between the two arrays when presented\n",
    "\n",
    "display('Normalized Array:' , Normalized_X) #displays the normalized array\n",
    "\n",
    "np.save('X_normalized.npy', div_by_3) #Saving normalized array into a .npy file"
   ]
  },
  {
   "cell_type": "markdown",
   "id": "0f1b6b56-b447-4a48-a805-14f19f410c10",
   "metadata": {},
   "source": [
    "Problem 2"
   ]
  },
  {
   "cell_type": "code",
   "execution_count": 42,
   "id": "ab94a389-8f52-4fc4-83c1-d3482945455b",
   "metadata": {
    "scrolled": true
   },
   "outputs": [
    {
     "data": {
      "text/plain": [
       "'Original Array: '"
      ]
     },
     "metadata": {},
     "output_type": "display_data"
    },
    {
     "data": {
      "text/plain": [
       "array([[    1,     4,     9,    16,    25,    36,    49,    64,    81,\n",
       "          100],\n",
       "       [  121,   144,   169,   196,   225,   256,   289,   324,   361,\n",
       "          400],\n",
       "       [  441,   484,   529,   576,   625,   676,   729,   784,   841,\n",
       "          900],\n",
       "       [  961,  1024,  1089,  1156,  1225,  1296,  1369,  1444,  1521,\n",
       "         1600],\n",
       "       [ 1681,  1764,  1849,  1936,  2025,  2116,  2209,  2304,  2401,\n",
       "         2500],\n",
       "       [ 2601,  2704,  2809,  2916,  3025,  3136,  3249,  3364,  3481,\n",
       "         3600],\n",
       "       [ 3721,  3844,  3969,  4096,  4225,  4356,  4489,  4624,  4761,\n",
       "         4900],\n",
       "       [ 5041,  5184,  5329,  5476,  5625,  5776,  5929,  6084,  6241,\n",
       "         6400],\n",
       "       [ 6561,  6724,  6889,  7056,  7225,  7396,  7569,  7744,  7921,\n",
       "         8100],\n",
       "       [ 8281,  8464,  8649,  8836,  9025,  9216,  9409,  9604,  9801,\n",
       "        10000]])"
      ]
     },
     "metadata": {},
     "output_type": "display_data"
    },
    {
     "name": "stdout",
     "output_type": "stream",
     "text": [
      "\n",
      "\n"
     ]
    },
    {
     "data": {
      "text/plain": [
       "'Divisible by 3 Only: '"
      ]
     },
     "metadata": {},
     "output_type": "display_data"
    },
    {
     "data": {
      "text/plain": [
       "array([   9,   36,   81,  144,  225,  324,  441,  576,  729,  900, 1089,\n",
       "       1296, 1521, 1764, 2025, 2304, 2601, 2916, 3249, 3600, 3969, 4356,\n",
       "       4761, 5184, 5625, 6084, 6561, 7056, 7569, 8100, 8649, 9216, 9801])"
      ]
     },
     "metadata": {},
     "output_type": "display_data"
    }
   ],
   "source": [
    "arr = np.arange(1, 101, 1)#creates an array that stores numbers from 1-101, not including 101, with an interval of 1 per number\n",
    "\n",
    "arr_squared = arr*arr #multiplies the array by itself, essentially squaring all elements in the array\n",
    "\n",
    "arr10x10 = arr_squared.reshape(10,10) #reshapes the array into 10x10\n",
    "\n",
    "div_by_3 = arr10x10[arr10x10%3==0] #getting all of the elements that have a 0 remainder when divided by 3, and assigning that array to a variable\n",
    "\n",
    "display('Original Array: ', arr10x10) #Displays original 10x10 array\n",
    "\n",
    "print('\\n') #creates space between the two arrays when presented\n",
    "\n",
    "display('Divisible by 3 Only: ', div_by_3) #Displays the array that has only the elements divisible by 3\n",
    "\n",
    "np.save('div_by_3.npy', div_by_3) #Saving div_by_3 array into a .npy file"
   ]
  }
 ],
 "metadata": {
  "kernelspec": {
   "display_name": "Python [conda env:base] *",
   "language": "python",
   "name": "conda-base-py"
  },
  "language_info": {
   "codemirror_mode": {
    "name": "ipython",
    "version": 3
   },
   "file_extension": ".py",
   "mimetype": "text/x-python",
   "name": "python",
   "nbconvert_exporter": "python",
   "pygments_lexer": "ipython3",
   "version": "3.13.5"
  }
 },
 "nbformat": 4,
 "nbformat_minor": 5
}
